{
 "cells": [
  {
   "cell_type": "code",
   "execution_count": 152,
   "id": "f8015684-8c9d-431e-b323-9d31c2e38a2d",
   "metadata": {},
   "outputs": [],
   "source": [
    "from summa import summarizer\n",
    "from sklearn.feature_extraction.text import TfidfVectorizer\n",
    "from sklearn.decomposition import TruncatedSVD\n",
    "from sklearn.metrics.pairwise import cosine_similarity\n",
    "import os\n",
    "from sumy.parsers.plaintext import PlaintextParser\n",
    "from sumy.summarizers.text_rank import TextRankSummarizer\n",
    "from sumy.summarizers.lsa import LsaSummarizer\n",
    "\n",
    "from sumy.nlp.stemmers import Stemmer\n",
    "from sumy.utils import get_stop_words\n",
    "from sumy.nlp.tokenizers import Tokenizer\n",
    "import re\n",
    "from rouge import Rouge\n",
    "\n",
    "rouge = Rouge()\n"
   ]
  },
  {
   "cell_type": "code",
   "execution_count": 153,
   "id": "cbaca406-562e-477a-a414-5e13a9eeed05",
   "metadata": {},
   "outputs": [],
   "source": [
    "# Define functions for TextRank, LSA, and Relevance sentence scoring\n",
    "LANGUAGE = \"english\"\n",
    "SENTENCES_COUNT = 3\n",
    "# TextRank Summarization"
   ]
  },
  {
   "cell_type": "code",
   "execution_count": 154,
   "id": "dae9683b-c459-435d-ac22-e2a81a24513f",
   "metadata": {},
   "outputs": [],
   "source": [
    "def textrank_summarize(text):\n",
    "    # Create a parser for the input text\n",
    "    LANGUAGE = \"english\"  # Set the language of the text\n",
    "    parser = PlaintextParser.from_string(text, Tokenizer(LANGUAGE))\n",
    "    stemmer = Stemmer(LANGUAGE)\n",
    "    summarizer = TextRankSummarizer(stemmer)\n",
    "    \n",
    "    num_sentences_to_select = 5  # Adjust the number of sentences\n",
    "    summarizer.stop_words = get_stop_words(LANGUAGE)\n",
    "    summarized_text = summarizer(parser.document, SENTENCES_COUNT)\n",
    "    summarized_text = '\\n'.join([str(sentence) for sentence in summarized_text])\n",
    "    return summarized_text"
   ]
  },
  {
   "cell_type": "code",
   "execution_count": 155,
   "id": "6fba5cb5-2929-41f7-a186-9ed31855ab37",
   "metadata": {},
   "outputs": [],
   "source": [
    "\n",
    "# LSA Summarization\n",
    "def lsa_summarize(text):\n",
    "    parser = PlaintextParser.from_string(text, Tokenizer(LANGUAGE))\n",
    "    stemmer = Stemmer(LANGUAGE)\n",
    "    summarizer = LsaSummarizer(stemmer)\n",
    "    summarizer.stop_words = get_stop_words(LANGUAGE)\n",
    "\n",
    "    summarized_text = summarizer(parser.document, SENTENCES_COUNT)\n",
    "    summarized_text = '\\n'.join([str(sentence) for sentence in summarized_text])\n",
    "    \n",
    "    return summarized_text\n"
   ]
  },
  {
   "cell_type": "code",
   "execution_count": 156,
   "id": "c32e9202-b1c5-4bb9-a468-d352c81c1c65",
   "metadata": {},
   "outputs": [],
   "source": [
    "# Relevance-Based Summarization\n",
    "def relevance_summarize(text):\n",
    "    sentences = text.split('.')\n",
    "\n",
    "    # Create a TF-IDF vectorizer\n",
    "    tfidf_vectorizer = TfidfVectorizer()\n",
    "    tfidf_matrix = tfidf_vectorizer.fit_transform(sentences)\n",
    "    \n",
    "    # Calculate cosine similarity between sentences\n",
    "    similarity_matrix = cosine_similarity(tfidf_matrix, tfidf_matrix)\n",
    "    \n",
    "    # Choose the most relevant sentences (e.g., top 3 sentences)\n",
    "    num_sentences_to_select = 3  # Adjust the number of sentences\n",
    "    top_sentence_indices = similarity_matrix.argsort()[0][-num_sentences_to_select:]\n",
    "    \n",
    "    # Get the top sentences\n",
    "    relevant_sentences = [sentences[i] for i in top_sentence_indices]\n",
    "    \n",
    "    # Create the summary by joining the selected sentences\n",
    "    summarized_text = '. '.join(relevant_sentences)\n",
    "    return summarized_text"
   ]
  },
  {
   "cell_type": "code",
   "execution_count": 157,
   "id": "06ce7353-ac21-4b92-9f79-0a5e77784148",
   "metadata": {},
   "outputs": [
    {
     "name": "stdout",
     "output_type": "stream",
     "text": [
      ", and is very, very accurate .\n",
      " but for the most part, we find that the Garmin software provides accurate directions, whereever we intend to go .\n",
      " This function is not accurate if you don't leave it in battery mode say, when you stop at the Cracker Barrell for lunch and to play one of those trangle games with the tees .\n",
      " It provides immediate alternatives if the route from the online map program was inaccurate or blocked by an obstacle .\n",
      " I've used other GPS units, as well as GPS built into cars   and to this day NOTHING beats the accuracy of a Garmin GPS .\n",
      " It got me from point A to point B with 100% accuracy everytime .\n",
      " It has yet to disappoint, getting me everywhere with 100% accuracy .\n",
      "0 out of 5 stars Honest, accurate review, , PLEASE READ !\n",
      " Aside from that, every destination I've thrown at has been 100% accurate .\n",
      "In closing, this is a fantastic GPS with some very nice features and is very accurate in directions .\n",
      " Plus, I've always heard that there are  quirks  with any GPS being accurate, having POIs, etc .\n",
      " DESTINATION TIME, , This is pretty accurate too .\n",
      " But, it's always very accurate .\n",
      " The map is pretty accurate and the Point of interest database also is good .\n",
      " Most of the times, this info was very accurate .\n",
      "I've even used it in the  pedestrian  mode, and it's amazing how accurate it is .\n",
      "  ONLY  is only accurate when an ad says,  Top sirloin steak, ONLY $1 .\n",
      " The most accurate review stated that these machines are adjunct to a good map and signs on the interstate .\n",
      " The directions are highly accurate down to a  T  .\n",
      " Depending on what you are using it for, it is a nice adjunct to a travel trip and the directions are accurate and usually the quickest, but not always .\n",
      " The screen is easy to see, the voice tells you where you are and it's very accurate .\n",
      " It was accurate to the minute when it told me when I would arrive home .\n",
      "0 out of 5 stars GPS Navigator doesn't navigate accurately on a straight road .\n",
      " I was familiar with the streets and only used the Nuvi to get an accurate arrival time estimate .\n",
      " but after that it is very easy and quite accurate to use .\n",
      " The accuracy at this point is very good .\n",
      "While the 255W routing seems generally accurate and logical, on my first use I discovered that it does have some errors in its internal map .\n",
      " Bottom line is I wanted a unit that is accurate and had reliable satellite connection .\n",
      " I've used it around town and find it to be extremely accurate .\n",
      "I found the maps to be inaccurate at first, but after I updated them from Garmin's website everything is golden .\n",
      " A lot of my friends' addresses are inaccurate by any GPS .\n",
      " It loads quickly, have pretty accurate directions, and can recalculate quickly when I miss a turn .\n",
      " Because the accuracy is good to the street address level, it may not be able to guide you to the exact location if your destination is inside a shopping mall .\n",
      "I updated to the latest 2010 map soon after I received the unit, so the map is accurate to me .\n",
      " I was blown away at the accuracy and routing capability this thing had .\n",
      " I used it the day I bought it,   and then this morning, and as soon as it comes on it is  ready to navigate  The only downfall of this product, and the only reason I did not give it 5 stars is the fact that the speed limit it displays for the road you are on isn't 100% accurate .\n",
      " If your looking for a nice, accurate GPS for not so much money, got with this one .\n",
      "0 out of 5 stars Inexpensive, accurate, plenty of features, August 6, 2009\n",
      " The only glitch I have found so far is that the speed limits are not 100% accurate, although the GPS, amazingly, is able to very accurately tell you how fast your vehicle is moving .\n",
      " I was a little disappointed in the inaccuracy of the posted speed limit, as I'm guilty of not paying close enough attention to those signs, especially w  interstate speed traps that are constantly changing up and down .\n",
      " The closest one that gives the most accurate route that I usually take is the Navigon .\n",
      " After 2 weeks, it has yet to make a mistake, and is always completely accurate ,  even to the point of telling me which side of the street my destination is on .\n",
      " It has worked well for local driving giving accurate directions for roads and streets .\n",
      "The estimated time to arrival does not seem to calculate the travelling time accurately .\n",
      "Accuracy is as good as any other unit, they all sometimes tell you you have arrived when you haven't, or continue to tell you to turn when you're already there .\n",
      " Accuracy is determined by the maps .\n",
      " Less traveled rural roads will not be accurate on any unit .\n",
      " Accuracy is within a few yards .\n",
      "What the 255w does best is find a street address, business, point of interest, hospital or airport and give you turn, by, turn directions with amazing accuracy .\n",
      " The Garmin is loaded with very accurate maps that generally know the roads in even the remotest areas .\n",
      "I'm really glad I bought it though, and like the easy to read graphics, the voice used to tell you the name of the street you are to turn on, the uncannily accurate estimates of mileage and time of arrival at your destination .\n",
      "My new Garmin 255w had very Easy Set Up, Accurate Directions to locations, User Friendly Unit to anyone in my vehicle who tried it .\n",
      " I had a GPS 10, years ago when I owned a boat that was difficult to use and with very poor accuracy so I had assumed that the road GPS wasn't any better .\n",
      " Practiced visiting places I already knew to see how accurate the directions and maps would be .\n",
      " Easy to use, excellent accuracy, nice and intuitive interface .\n",
      " The directions provided have all been quite accurate thus far .\n",
      ",  Very Accurate but with one small glitch I found ,  I'll explain in the CONS\n",
      "This is a great GPS, it is so easy to use and it is always accurate .\n",
      "Very easy to operate and pretty accurate as well, only led me astray once and that was in northern Maine where roads are few and paved ones fewer .\n",
      " Easy to use and amazed at how accurate this item is .\n",
      "To date it's been a very easy to use and accurate .\n",
      " Mounted really easily and has been very accurate .\n",
      " seems to be rather accurate .\n",
      " It was accurate on determing original directions and recalculating when necessary .\n",
      "Highly accurate, POIs are great .\n",
      " I can't believe how accurate and detailed the information estimated time of arrival,speed limits along the way,and detailed map of my route, to name a few .\n",
      " Speed of calculation, accuracy, and simplicity of operation are top notch .\n",
      "\n"
     ]
    }
   ],
   "source": [
    "dataset_folder = \"data\\\\opinosis\\\\topics\"\n",
    "topic_file = \"accuracy_garmin_nuvi_255W_gps.txt.data\"\n",
    "current_directory = os.getcwd()\n",
    "topic_text = \"\"\n",
    "with open(os.path.join(current_directory, dataset_folder, topic_file), 'r') as file:\n",
    "        topic_text = file.read()\n",
    "\n",
    "print(topic_text)"
   ]
  },
  {
   "cell_type": "code",
   "execution_count": 158,
   "id": "1a3e2203-bab3-4175-9c2e-41dfd84108f8",
   "metadata": {},
   "outputs": [
    {
     "name": "stdout",
     "output_type": "stream",
     "text": [
      "\n",
      "####################################################\n",
      "Text Rank\n",
      "####################################################\n",
      ", and is very, very accurate .\n",
      "0 out of 5 stars Inexpensive, accurate, plenty of features, August 6, 2009 The only glitch I have found so far is that the speed limits are not 100% accurate, although the GPS, amazingly, is able to very accurately tell you how fast your vehicle is moving .\n",
      ",  Very Accurate but with one small glitch I found ,  I'll explain in the CONS This is a great GPS, it is so easy to use and it is always accurate .\n",
      "\n",
      "####################################################\n",
      "LSA Rank\n",
      "####################################################\n",
      "This function is not accurate if you don't leave it in battery mode say, when you stop at the Cracker Barrell for lunch and to play one of those trangle games with the tees .\n",
      "I used it the day I bought it,   and then this morning, and as soon as it comes on it is  ready to navigate  The only downfall of this product, and the only reason I did not give it 5 stars is the fact that the speed limit it displays for the road you are on isn't 100% accurate .\n",
      "I'm really glad I bought it though, and like the easy to read graphics, the voice used to tell you the name of the street you are to turn on, the uncannily accurate estimates of mileage and time of arrival at your destination .\n",
      "\n",
      "####################################################\n",
      "Relevence\n",
      "####################################################\n",
      "\n",
      " But, it's always very accurate . \n",
      "In closing, this is a fantastic GPS with some very nice features and is very accurate in directions . , and is very, very accurate \n"
     ]
    }
   ],
   "source": [
    "textrank_summary = textrank_summarize(topic_text)\n",
    "lsa_summary = lsa_summarize(topic_text)\n",
    "relevance_summary = relevance_summarize(topic_text)\n",
    "\n",
    "print('\\n####################################################')\n",
    "print('Text Rank')\n",
    "print('####################################################')\n",
    "print(textrank_summary)\n",
    "\n",
    "print('\\n####################################################')\n",
    "print('LSA Rank')\n",
    "print('####################################################')\n",
    "print(lsa_summary)\n",
    "\n",
    "print('\\n####################################################')\n",
    "print('Relevence')\n",
    "print('####################################################')\n",
    "print(relevance_summary)\n"
   ]
  },
  {
   "cell_type": "code",
   "execution_count": 159,
   "id": "614f9e80-1c09-4827-ae11-135fa4356f07",
   "metadata": {},
   "outputs": [
    {
     "name": "stdout",
     "output_type": "stream",
     "text": [
      "This unit is generally quite accurate.  \n",
      "Set-up and usage are considered to be very easy. \n",
      "The maps can be updated, and tend to be reliable.\n",
      "\n"
     ]
    }
   ],
   "source": [
    "# Calculate ROUGE scores\n",
    "\n",
    "summary_folder = \"data\\\\Opinosis\\\\summaries\"\n",
    "current_topic = \"accuracy_garmin_nuvi_255W_gps\"\n",
    "summary_file = \"accuracy_garmin_nuvi_255W_gps.1.gold\"\n",
    "# topic_file = \"accuracy_garmin_nuvi_255W_gps.2.gold\"\n",
    "# topic_file = \"accuracy_garmin_nuvi_255W_gps.3.gold\"\n",
    "# topic_file = \"accuracy_garmin_nuvi_255W_gps.4.gold\"\n",
    "\n",
    "current_directory = os.getcwd()\n",
    "gold_summary = \"\"\n",
    "with open(os.path.join(current_directory, summary_folder, current_topic, summary_file), 'r') as file:\n",
    "        gold_summary = file.read()\n",
    "print(gold_summary)\n"
   ]
  },
  {
   "cell_type": "code",
   "execution_count": 160,
   "id": "34dba414-4227-4095-a00a-6c24cea4e2df",
   "metadata": {},
   "outputs": [
    {
     "name": "stdout",
     "output_type": "stream",
     "text": [
      "ROUGE-1 scores for TextRank: {'r': 0.4090909090909091, 'p': 0.14285714285714285, 'f': 0.21176470204567477}\n",
      "ROUGE-2 scores for TextRank: {'r': 0.0, 'p': 0.0, 'f': 0.0}\n",
      "ROUGE-1 scores for LSA: {'r': 0.36363636363636365, 'p': 0.09411764705882353, 'f': 0.14953270701371307}\n",
      "ROUGE-2 scores for LSA: {'r': 0.0, 'p': 0.0, 'f': 0.0}\n",
      "ROUGE-1 scores for Relevance Scoring: {'r': 0.18181818181818182, 'p': 0.19047619047619047, 'f': 0.18604650663061129}\n",
      "ROUGE-2 scores for Relevance Scoring: {'r': 0.0, 'p': 0.0, 'f': 0.0}\n"
     ]
    }
   ],
   "source": [
    "\n",
    "# str_textRank = '\\n'.join(textrank_summary)\n",
    "# str_lsaRank = '\\n'.join(lsa_summary)\n",
    "# str_Relenevence = '\\n'.join(relevance_summary)\n",
    "\n",
    "rouge_scores_text_rank = rouge.get_scores(textrank_summary, gold_summary)\n",
    "rouge_scores_lsa = rouge.get_scores(lsa_summary, gold_summary)\n",
    "rouge_scores_relevance = rouge.get_scores(relevance_summary, gold_summary)\n",
    "\n",
    "# Print or save the ROUGE scores for each method\n",
    "print(f\"ROUGE-1 scores for TextRank: {rouge_scores_text_rank[0]['rouge-1']}\")\n",
    "print(f\"ROUGE-2 scores for TextRank: {rouge_scores_text_rank[0]['rouge-2']}\")\n",
    "print(f\"ROUGE-1 scores for LSA: {rouge_scores_lsa[0]['rouge-1']}\")\n",
    "print(f\"ROUGE-2 scores for LSA: {rouge_scores_lsa[0]['rouge-2']}\")\n",
    "print(f\"ROUGE-1 scores for Relevance Scoring: {rouge_scores_relevance[0]['rouge-1']}\")\n",
    "print(f\"ROUGE-2 scores for Relevance Scoring: {rouge_scores_relevance[0]['rouge-2']}\")"
   ]
  },
  {
   "cell_type": "code",
   "execution_count": null,
   "id": "b3ae743a-ccf8-46ef-8c24-86aa0f42722f",
   "metadata": {},
   "outputs": [],
   "source": []
  }
 ],
 "metadata": {
  "kernelspec": {
   "display_name": "Python 3 (ipykernel)",
   "language": "python",
   "name": "python3"
  },
  "language_info": {
   "codemirror_mode": {
    "name": "ipython",
    "version": 3
   },
   "file_extension": ".py",
   "mimetype": "text/x-python",
   "name": "python",
   "nbconvert_exporter": "python",
   "pygments_lexer": "ipython3",
   "version": "3.10.0"
  }
 },
 "nbformat": 4,
 "nbformat_minor": 5
}
